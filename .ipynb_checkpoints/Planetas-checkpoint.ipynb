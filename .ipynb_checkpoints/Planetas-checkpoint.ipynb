{
 "cells": [
  {
   "cell_type": "markdown",
   "id": "33bc5d6b-cb61-457d-ad4a-b7a5ad3b7a6e",
   "metadata": {},
   "source": [
    "# Planetas Enanos"
   ]
  },
  {
   "cell_type": "code",
   "execution_count": 1,
   "id": "b245117e-222c-4f02-85a6-8fdc7435c13d",
   "metadata": {},
   "outputs": [
    {
     "name": "stdout",
     "output_type": "stream",
     "text": [
      "Se encontraron 4 tablas en la página.\n",
      "No se encontró una tabla con información de planetas enanos.\n"
     ]
    }
   ],
   "source": [
    "import requests\n",
    "from bs4 import BeautifulSoup\n",
    "\n",
    "url = \"https://es.wikipedia.org/wiki/Planetas_del_sistema_solar\"\n",
    "response = requests.get(url)\n",
    "soup = BeautifulSoup(response.text, 'html.parser')\n",
    "\n",
    "tablas = soup.find_all('table', {'class': 'wikitable'})\n",
    "\n",
    "print(f\"Se encontraron {len(tablas)} tablas en la página.\")\n",
    "\n",
    "planetas_enanos = []\n",
    "\n",
    "for idx, tabla in enumerate(tablas):\n",
    "    if \"Planetas enanos\" in tabla.text:\n",
    "        print(f\"Tabla de planetas enanos encontrada en la posición {idx + 1}\")\n",
    "        for fila in tabla.find_all('tr')[1:]:\n",
    "            columnas = fila.find_all('td')\n",
    "            if len(columnas) > 1:\n",
    "                nombre_planeta = columnas[0].text.strip()\n",
    "                numero_satellites = columnas[7].text.strip()\n",
    "                planetas_enanos.append((nombre_planeta, numero_satellites))\n",
    "        break\n",
    "else:\n",
    "    print(\"No se encontró una tabla con información de planetas enanos.\")\n",
    "\n",
    "if planetas_enanos:\n",
    "    for planeta, satelites in planetas_enanos:\n",
    "        print(f\"Planeta Enano: {planeta}, Número de Satélites: {satelites}\")\n"
   ]
  },
  {
   "cell_type": "code",
   "execution_count": null,
   "id": "b1a90ddb-3eb2-45bd-afe3-b42ced2e34a6",
   "metadata": {},
   "outputs": [],
   "source": []
  }
 ],
 "metadata": {
  "kernelspec": {
   "display_name": "Python 3 (ipykernel)",
   "language": "python",
   "name": "python3"
  },
  "language_info": {
   "codemirror_mode": {
    "name": "ipython",
    "version": 3
   },
   "file_extension": ".py",
   "mimetype": "text/x-python",
   "name": "python",
   "nbconvert_exporter": "python",
   "pygments_lexer": "ipython3",
   "version": "3.12.4"
  }
 },
 "nbformat": 4,
 "nbformat_minor": 5
}
